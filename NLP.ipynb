{
  "nbformat": 4,
  "nbformat_minor": 0,
  "metadata": {
    "colab": {
      "name": "NLP.ipynb",
      "provenance": [],
      "collapsed_sections": []
    },
    "kernelspec": {
      "name": "python3",
      "display_name": "Python 3"
    }
  },
  "cells": [
    {
      "cell_type": "markdown",
      "metadata": {
        "id": "j2XBMiqT60AS"
      },
      "source": [
        "Name : Pranay Bachu\r\n",
        "Student ID: 002570738\r\n",
        "\r\n",
        ". Write a function that finds the factorial of a number. Test the function finding the\r\n",
        "factorial of the number 10.\r\n"
      ]
    },
    {
      "cell_type": "code",
      "metadata": {
        "id": "m5jM19i67FrA",
        "colab": {
          "base_uri": "https://localhost:8080/"
        },
        "outputId": "06ae3808-3719-4af7-ad5c-cfc793a69bb4"
      },
      "source": [
        "def my_factorial(number):\r\n",
        "    f=1\r\n",
        "    for i in range(1, num+1):\r\n",
        "        f=f*i\r\n",
        "    return f  \r\n",
        "num=int(input(\"Enter number \"))\r\n",
        "output=my_factorial(num)\r\n",
        "print(output)"
      ],
      "execution_count": 25,
      "outputs": [
        {
          "output_type": "stream",
          "text": [
            "Enter number 100\n",
            "93326215443944152681699238856266700490715968264381621468592963895217599993229915608941463976156518286253697920827223758251185210916864000000000000000000000000\n"
          ],
          "name": "stdout"
        }
      ]
    },
    {
      "cell_type": "markdown",
      "metadata": {
        "id": "zkhkC3OaF3Vx"
      },
      "source": [
        "Name : Pranay Bachu, Student ID :002570738 , \r\n",
        "Write a function that determines if a number is a prime number. Test the function with\r\n",
        "the following numbers: 3 and 1251.\r\n"
      ]
    },
    {
      "cell_type": "code",
      "metadata": {
        "colab": {
          "base_uri": "https://localhost:8080/"
        },
        "id": "yI146oUnGaYG",
        "outputId": "e4a9d04f-58d1-40fc-edcb-ef3ba9beb608"
      },
      "source": [
        "def primeNumber_test(num):\r\n",
        "    if (num==1):\r\n",
        "        return False\r\n",
        "    elif (num==2):\r\n",
        "        return True;\r\n",
        "    else:\r\n",
        "        for x in range(2,num):\r\n",
        "            if(num % x==0):\r\n",
        "                return False\r\n",
        "        return True             \r\n",
        "print(primeNumber_test(3))\r\n",
        "print(primeNumber_test(1251))"
      ],
      "execution_count": 37,
      "outputs": [
        {
          "output_type": "stream",
          "text": [
            "True\n",
            "False\n"
          ],
          "name": "stdout"
        }
      ]
    },
    {
      "cell_type": "markdown",
      "metadata": {
        "id": "rVd6AmiLLUYt"
      },
      "source": [
        "Name : Pranay Bachu, Student Id: 002570738, \r\n",
        "Write a function that transposes a matrix. Test with a 3 x 3 identity matrix"
      ]
    },
    {
      "cell_type": "code",
      "metadata": {
        "colab": {
          "base_uri": "https://localhost:8080/"
        },
        "id": "YcvR3KK7LjFK",
        "outputId": "8941898a-dab7-4611-c252-e6367346a192"
      },
      "source": [
        "N = 3  \r\n",
        "def transposeMatrix(A,B): \r\n",
        "  \r\n",
        "    for i in range(N): \r\n",
        "        for j in range(N): \r\n",
        "            B[i][j] = A[j][i] \r\n",
        "A = [ [1, 1, 1], \r\n",
        "    [2, 2, 2], \r\n",
        "    [3, 3, 3]] \r\n",
        "B = A[:][:]\r\n",
        "transposeMatrix(A, B) \r\n",
        "print(\"Transposed Matrix is\") \r\n",
        "for i in range(N): \r\n",
        "    for j in range(N): \r\n",
        "        print(B[i][j], \" \", end='') \r\n",
        "    print() "
      ],
      "execution_count": 51,
      "outputs": [
        {
          "output_type": "stream",
          "text": [
            "Transposed Matrix is\n",
            "1  2  3  \n",
            "2  2  3  \n",
            "3  3  3  \n"
          ],
          "name": "stdout"
        }
      ]
    },
    {
      "cell_type": "markdown",
      "metadata": {
        "id": "fwd7O25imhqa"
      },
      "source": [
        "Name : Pranay Bachu, Student ID:002570738,\r\n",
        ". Using Pandas and Numpy, write a piece of code to combine two series into one. Test\r\n",
        "your code with:\r\n",
        "np.random.seed(0)\r\n",
        "series1 = pd.Series(np.arange(10))\r\n",
        "series2 = pd.Series(np.arange(26))\r\n"
      ]
    },
    {
      "cell_type": "code",
      "metadata": {
        "colab": {
          "base_uri": "https://localhost:8080/"
        },
        "id": "H_-p39NQmzbl",
        "outputId": "1f1695ac-45c0-4680-b7d3-a72882c8ced8"
      },
      "source": [
        "import pandas as pd\r\n",
        "import numpy as np\r\n",
        "series1 = pd.Series(np.arange(10))\r\n",
        "series2 = pd.Series(np.arange(26))\r\n",
        "print(\"Data Series:\")\r\n",
        "df = pd.concat([series1, series2], axis=1)\r\n",
        "print(\"New DataFrame combining two series:\")\r\n",
        "print(df)"
      ],
      "execution_count": 62,
      "outputs": [
        {
          "output_type": "stream",
          "text": [
            "Data Series:\n",
            "New DataFrame combining two series:\n",
            "      0   1\n",
            "0   0.0   0\n",
            "1   1.0   1\n",
            "2   2.0   2\n",
            "3   3.0   3\n",
            "4   4.0   4\n",
            "5   5.0   5\n",
            "6   6.0   6\n",
            "7   7.0   7\n",
            "8   8.0   8\n",
            "9   9.0   9\n",
            "10  NaN  10\n",
            "11  NaN  11\n",
            "12  NaN  12\n",
            "13  NaN  13\n",
            "14  NaN  14\n",
            "15  NaN  15\n",
            "16  NaN  16\n",
            "17  NaN  17\n",
            "18  NaN  18\n",
            "19  NaN  19\n",
            "20  NaN  20\n",
            "21  NaN  21\n",
            "22  NaN  22\n",
            "23  NaN  23\n",
            "24  NaN  24\n",
            "25  NaN  25\n"
          ],
          "name": "stdout"
        }
      ]
    },
    {
      "cell_type": "markdown",
      "metadata": {
        "id": "7lF-06eVve7v"
      },
      "source": [
        "Name : Pranay Bachu , Student ID :002570738\r\n",
        "\r\n",
        "Using pandas, write a piece of code to convert the first character of each element in a\r\n",
        "series to uppercase. Test your code with:\r\n",
        "series = pd.Series(['nlp', 'will', 'be', 'easy?'])\r\n"
      ]
    },
    {
      "cell_type": "code",
      "metadata": {
        "colab": {
          "base_uri": "https://localhost:8080/"
        },
        "id": "aBXXfsKGvqPa",
        "outputId": "8fb93c07-fecb-40be-dede-b56132f76567"
      },
      "source": [
        "import pandas as pd\r\n",
        "series = pd.Series(['nlp', 'will', 'be', 'easy?'])\r\n",
        "print(\"New Series:\") \r\n",
        "series \r\n",
        "newSeries = series.map(lambda x: x[0].upper() + x[1:-1] + x[-1].upper()) \r\n",
        "print(\"\\ Series :\") \r\n",
        "newSeries \r\n",
        "\r\n"
      ],
      "execution_count": 59,
      "outputs": [
        {
          "output_type": "stream",
          "text": [
            "New Series:\n",
            "\\ Series :\n"
          ],
          "name": "stdout"
        },
        {
          "output_type": "execute_result",
          "data": {
            "text/plain": [
              "0      NlP\n",
              "1     WilL\n",
              "2       BE\n",
              "3    Easy?\n",
              "dtype: object"
            ]
          },
          "metadata": {
            "tags": []
          },
          "execution_count": 59
        }
      ]
    }
  ]
}